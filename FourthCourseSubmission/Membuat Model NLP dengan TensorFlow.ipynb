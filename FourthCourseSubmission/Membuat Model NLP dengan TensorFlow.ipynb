{
  "nbformat": 4,
  "nbformat_minor": 0,
  "metadata": {
    "colab": {
      "name": "Emotion by Abraham Naiborhu.ipynb",
      "provenance": [],
      "collapsed_sections": []
    },
    "kernelspec": {
      "name": "python3",
      "display_name": "Python 3"
    },
    "language_info": {
      "name": "python"
    }
  },
  "cells": [
    {
      "cell_type": "code",
      "metadata": {
        "id": "QDivu4LC0yLs",
        "colab": {
          "base_uri": "https://localhost:8080/"
        },
        "outputId": "f41a924d-cc26-456f-d7fc-a170ca1c2894"
      },
      "source": [
        "#YUKLAH KITA MULAI\n",
        "\n",
        "#baca dataset\n",
        "!pip install opendatasets --upgrade\n",
        "import opendatasets as od\n",
        "\n",
        "#Visualisasi data\n",
        "import pandas as pd\n",
        "import matplotlib.pyplot as plt\n",
        "import seaborn as sns\n",
        "\n",
        "#preprocessing data\n",
        "from sklearn.model_selection import train_test_split\n",
        "from tensorflow.keras.preprocessing.text import Tokenizer\n",
        "from tensorflow.keras.preprocessing.sequence import pad_sequences\n",
        "\n",
        "#Kita train lah modelnya\n",
        "import tensorflow as tf\n",
        "from keras.models import Sequential\n",
        "from keras.callbacks import Callback"
      ],
      "execution_count": 1,
      "outputs": [
        {
          "output_type": "stream",
          "name": "stdout",
          "text": [
            "Collecting opendatasets\n",
            "  Downloading opendatasets-0.1.20-py3-none-any.whl (14 kB)\n",
            "Requirement already satisfied: tqdm in /usr/local/lib/python3.7/dist-packages (from opendatasets) (4.62.3)\n",
            "Requirement already satisfied: click in /usr/local/lib/python3.7/dist-packages (from opendatasets) (7.1.2)\n",
            "Requirement already satisfied: kaggle in /usr/local/lib/python3.7/dist-packages (from opendatasets) (1.5.12)\n",
            "Requirement already satisfied: python-dateutil in /usr/local/lib/python3.7/dist-packages (from kaggle->opendatasets) (2.8.2)\n",
            "Requirement already satisfied: six>=1.10 in /usr/local/lib/python3.7/dist-packages (from kaggle->opendatasets) (1.15.0)\n",
            "Requirement already satisfied: certifi in /usr/local/lib/python3.7/dist-packages (from kaggle->opendatasets) (2021.5.30)\n",
            "Requirement already satisfied: requests in /usr/local/lib/python3.7/dist-packages (from kaggle->opendatasets) (2.23.0)\n",
            "Requirement already satisfied: python-slugify in /usr/local/lib/python3.7/dist-packages (from kaggle->opendatasets) (5.0.2)\n",
            "Requirement already satisfied: urllib3 in /usr/local/lib/python3.7/dist-packages (from kaggle->opendatasets) (1.24.3)\n",
            "Requirement already satisfied: text-unidecode>=1.3 in /usr/local/lib/python3.7/dist-packages (from python-slugify->kaggle->opendatasets) (1.3)\n",
            "Requirement already satisfied: chardet<4,>=3.0.2 in /usr/local/lib/python3.7/dist-packages (from requests->kaggle->opendatasets) (3.0.4)\n",
            "Requirement already satisfied: idna<3,>=2.5 in /usr/local/lib/python3.7/dist-packages (from requests->kaggle->opendatasets) (2.10)\n",
            "Installing collected packages: opendatasets\n",
            "Successfully installed opendatasets-0.1.20\n"
          ]
        }
      ]
    },
    {
      "cell_type": "code",
      "metadata": {
        "colab": {
          "base_uri": "https://localhost:8080/"
        },
        "id": "ZMzszlA_4Jeu",
        "outputId": "423da572-ec96-412c-e388-9e9cd5907a70"
      },
      "source": [
        "od.download(\"https://www.kaggle.com/praveengovi/emotions-dataset-for-nlp\")"
      ],
      "execution_count": 2,
      "outputs": [
        {
          "output_type": "stream",
          "name": "stdout",
          "text": [
            "Please provide your Kaggle credentials to download this dataset. Learn more: http://bit.ly/kaggle-creds\n",
            "Your Kaggle username: avrahaem\n",
            "Your Kaggle Key: ··········\n",
            "Downloading emotions-dataset-for-nlp.zip to ./emotions-dataset-for-nlp\n"
          ]
        },
        {
          "output_type": "stream",
          "name": "stderr",
          "text": [
            "100%|██████████| 721k/721k [00:00<00:00, 73.4MB/s]"
          ]
        },
        {
          "output_type": "stream",
          "name": "stdout",
          "text": [
            "\n"
          ]
        },
        {
          "output_type": "stream",
          "name": "stderr",
          "text": [
            "\n"
          ]
        }
      ]
    },
    {
      "cell_type": "code",
      "metadata": {
        "colab": {
          "base_uri": "https://localhost:8080/"
        },
        "id": "rzWXMCGC5Z6L",
        "outputId": "93109148-5a60-47d6-c608-685b5d86f31f"
      },
      "source": [
        "df_train = pd.read_csv('/content/emotions-dataset-for-nlp/train.txt', sep=';', names=[\"sentence\", \"emotion\"])\n",
        "df_val = pd.read_csv('/content/emotions-dataset-for-nlp/val.txt',sep=';',names=[\"sentence\", \"emotion\"])\n",
        "df_test = pd.read_csv('/content/emotions-dataset-for-nlp/test.txt',sep=';',names=[\"sentence\", \"emotion\"])\n",
        "\n",
        "print(df_train)\n",
        "print(df_val)\n",
        "print(df_test)"
      ],
      "execution_count": 3,
      "outputs": [
        {
          "output_type": "stream",
          "name": "stdout",
          "text": [
            "                                                sentence  emotion\n",
            "0                                i didnt feel humiliated  sadness\n",
            "1      i can go from feeling so hopeless to so damned...  sadness\n",
            "2       im grabbing a minute to post i feel greedy wrong    anger\n",
            "3      i am ever feeling nostalgic about the fireplac...     love\n",
            "4                                   i am feeling grouchy    anger\n",
            "...                                                  ...      ...\n",
            "15995  i just had a very brief time in the beanbag an...  sadness\n",
            "15996  i am now turning and i feel pathetic that i am...  sadness\n",
            "15997                     i feel strong and good overall      joy\n",
            "15998  i feel like this was such a rude comment and i...    anger\n",
            "15999  i know a lot but i feel so stupid because i ca...  sadness\n",
            "\n",
            "[16000 rows x 2 columns]\n",
            "                                               sentence  emotion\n",
            "0     im feeling quite sad and sorry for myself but ...  sadness\n",
            "1     i feel like i am still looking at a blank canv...  sadness\n",
            "2                        i feel like a faithful servant     love\n",
            "3                     i am just feeling cranky and blue    anger\n",
            "4     i can have for a treat or if i am feeling festive      joy\n",
            "...                                                 ...      ...\n",
            "1995  im having ssa examination tomorrow in the morn...  sadness\n",
            "1996  i constantly worry about their fight against n...      joy\n",
            "1997  i feel its important to share this info for th...      joy\n",
            "1998  i truly feel that if you are passionate enough...      joy\n",
            "1999  i feel like i just wanna buy any cute make up ...      joy\n",
            "\n",
            "[2000 rows x 2 columns]\n",
            "                                               sentence  emotion\n",
            "0     im feeling rather rotten so im not very ambiti...  sadness\n",
            "1             im updating my blog because i feel shitty  sadness\n",
            "2     i never make her separate from me because i do...  sadness\n",
            "3     i left with my bouquet of red and yellow tulip...      joy\n",
            "4       i was feeling a little vain when i did this one  sadness\n",
            "...                                                 ...      ...\n",
            "1995  i just keep feeling like someone is being unki...    anger\n",
            "1996  im feeling a little cranky negative after this...    anger\n",
            "1997  i feel that i am useful to my people and that ...      joy\n",
            "1998  im feeling more comfortable with derby i feel ...      joy\n",
            "1999  i feel all weird when i have to meet w people ...     fear\n",
            "\n",
            "[2000 rows x 2 columns]\n"
          ]
        }
      ]
    },
    {
      "cell_type": "code",
      "metadata": {
        "colab": {
          "base_uri": "https://localhost:8080/",
          "height": 418
        },
        "id": "pTFJ8I976Dta",
        "outputId": "02e8dbcc-6f94-4c49-ca70-71ed9c3a4e3e"
      },
      "source": [
        "df = pd.concat([df_train, df_val])\n",
        "df"
      ],
      "execution_count": 4,
      "outputs": [
        {
          "output_type": "execute_result",
          "data": {
            "text/html": [
              "<div>\n",
              "<style scoped>\n",
              "    .dataframe tbody tr th:only-of-type {\n",
              "        vertical-align: middle;\n",
              "    }\n",
              "\n",
              "    .dataframe tbody tr th {\n",
              "        vertical-align: top;\n",
              "    }\n",
              "\n",
              "    .dataframe thead th {\n",
              "        text-align: right;\n",
              "    }\n",
              "</style>\n",
              "<table border=\"1\" class=\"dataframe\">\n",
              "  <thead>\n",
              "    <tr style=\"text-align: right;\">\n",
              "      <th></th>\n",
              "      <th>sentence</th>\n",
              "      <th>emotion</th>\n",
              "    </tr>\n",
              "  </thead>\n",
              "  <tbody>\n",
              "    <tr>\n",
              "      <th>0</th>\n",
              "      <td>i didnt feel humiliated</td>\n",
              "      <td>sadness</td>\n",
              "    </tr>\n",
              "    <tr>\n",
              "      <th>1</th>\n",
              "      <td>i can go from feeling so hopeless to so damned...</td>\n",
              "      <td>sadness</td>\n",
              "    </tr>\n",
              "    <tr>\n",
              "      <th>2</th>\n",
              "      <td>im grabbing a minute to post i feel greedy wrong</td>\n",
              "      <td>anger</td>\n",
              "    </tr>\n",
              "    <tr>\n",
              "      <th>3</th>\n",
              "      <td>i am ever feeling nostalgic about the fireplac...</td>\n",
              "      <td>love</td>\n",
              "    </tr>\n",
              "    <tr>\n",
              "      <th>4</th>\n",
              "      <td>i am feeling grouchy</td>\n",
              "      <td>anger</td>\n",
              "    </tr>\n",
              "    <tr>\n",
              "      <th>...</th>\n",
              "      <td>...</td>\n",
              "      <td>...</td>\n",
              "    </tr>\n",
              "    <tr>\n",
              "      <th>1995</th>\n",
              "      <td>im having ssa examination tomorrow in the morn...</td>\n",
              "      <td>sadness</td>\n",
              "    </tr>\n",
              "    <tr>\n",
              "      <th>1996</th>\n",
              "      <td>i constantly worry about their fight against n...</td>\n",
              "      <td>joy</td>\n",
              "    </tr>\n",
              "    <tr>\n",
              "      <th>1997</th>\n",
              "      <td>i feel its important to share this info for th...</td>\n",
              "      <td>joy</td>\n",
              "    </tr>\n",
              "    <tr>\n",
              "      <th>1998</th>\n",
              "      <td>i truly feel that if you are passionate enough...</td>\n",
              "      <td>joy</td>\n",
              "    </tr>\n",
              "    <tr>\n",
              "      <th>1999</th>\n",
              "      <td>i feel like i just wanna buy any cute make up ...</td>\n",
              "      <td>joy</td>\n",
              "    </tr>\n",
              "  </tbody>\n",
              "</table>\n",
              "<p>18000 rows × 2 columns</p>\n",
              "</div>"
            ],
            "text/plain": [
              "                                               sentence  emotion\n",
              "0                               i didnt feel humiliated  sadness\n",
              "1     i can go from feeling so hopeless to so damned...  sadness\n",
              "2      im grabbing a minute to post i feel greedy wrong    anger\n",
              "3     i am ever feeling nostalgic about the fireplac...     love\n",
              "4                                  i am feeling grouchy    anger\n",
              "...                                                 ...      ...\n",
              "1995  im having ssa examination tomorrow in the morn...  sadness\n",
              "1996  i constantly worry about their fight against n...      joy\n",
              "1997  i feel its important to share this info for th...      joy\n",
              "1998  i truly feel that if you are passionate enough...      joy\n",
              "1999  i feel like i just wanna buy any cute make up ...      joy\n",
              "\n",
              "[18000 rows x 2 columns]"
            ]
          },
          "metadata": {},
          "execution_count": 4
        }
      ]
    },
    {
      "cell_type": "code",
      "metadata": {
        "colab": {
          "base_uri": "https://localhost:8080/",
          "height": 303
        },
        "id": "_XWLlIRn89D9",
        "outputId": "cda60f8f-321d-44ea-9f3d-013115e3b774"
      },
      "source": [
        "sns.set_theme(style='whitegrid')\n",
        "sns.barplot(x = df['emotion'].value_counts().index, y = df['emotion'].value_counts(), palette = \"Blues\")\n",
        "\n",
        "plt.xlabel('emotion')\n",
        "plt.ylabel('total')"
      ],
      "execution_count": 5,
      "outputs": [
        {
          "output_type": "execute_result",
          "data": {
            "text/plain": [
              "Text(0, 0.5, 'total')"
            ]
          },
          "metadata": {},
          "execution_count": 5
        },
        {
          "output_type": "display_data",
          "data": {
            "image/png": "[encoded data removed]",
            "text/plain": [
              "<Figure size 432x288 with 1 Axes>"
            ]
          },
          "metadata": {}
        }
      ]
    },
    {
      "cell_type": "code",
      "metadata": {
        "colab": {
          "base_uri": "https://localhost:8080/",
          "height": 418
        },
        "id": "EInAD2QaCg4x",
        "outputId": "9822d831-1fb1-4333-9d68-f38b17c3511c"
      },
      "source": [
        "category = pd.get_dummies(df.emotion)\n",
        "df_baru = pd.concat([df, category], axis = 1)\n",
        "df_baru = df_baru.drop(columns = 'emotion')\n",
        "df_baru"
      ],
      "execution_count": 6,
      "outputs": [
        {
          "output_type": "execute_result",
          "data": {
            "text/html": [
              "<div>\n",
              "<style scoped>\n",
              "    .dataframe tbody tr th:only-of-type {\n",
              "        vertical-align: middle;\n",
              "    }\n",
              "\n",
              "    .dataframe tbody tr th {\n",
              "        vertical-align: top;\n",
              "    }\n",
              "\n",
              "    .dataframe thead th {\n",
              "        text-align: right;\n",
              "    }\n",
              "</style>\n",
              "<table border=\"1\" class=\"dataframe\">\n",
              "  <thead>\n",
              "    <tr style=\"text-align: right;\">\n",
              "      <th></th>\n",
              "      <th>sentence</th>\n",
              "      <th>anger</th>\n",
              "      <th>fear</th>\n",
              "      <th>joy</th>\n",
              "      <th>love</th>\n",
              "      <th>sadness</th>\n",
              "      <th>surprise</th>\n",
              "    </tr>\n",
              "  </thead>\n",
              "  <tbody>\n",
              "    <tr>\n",
              "      <th>0</th>\n",
              "      <td>i didnt feel humiliated</td>\n",
              "      <td>0</td>\n",
              "      <td>0</td>\n",
              "      <td>0</td>\n",
              "      <td>0</td>\n",
              "      <td>1</td>\n",
              "      <td>0</td>\n",
              "    </tr>\n",
              "    <tr>\n",
              "      <th>1</th>\n",
              "      <td>i can go from feeling so hopeless to so damned...</td>\n",
              "      <td>0</td>\n",
              "      <td>0</td>\n",
              "      <td>0</td>\n",
              "      <td>0</td>\n",
              "      <td>1</td>\n",
              "      <td>0</td>\n",
              "    </tr>\n",
              "    <tr>\n",
              "      <th>2</th>\n",
              "      <td>im grabbing a minute to post i feel greedy wrong</td>\n",
              "      <td>1</td>\n",
              "      <td>0</td>\n",
              "      <td>0</td>\n",
              "      <td>0</td>\n",
              "      <td>0</td>\n",
              "      <td>0</td>\n",
              "    </tr>\n",
              "    <tr>\n",
              "      <th>3</th>\n",
              "      <td>i am ever feeling nostalgic about the fireplac...</td>\n",
              "      <td>0</td>\n",
              "      <td>0</td>\n",
              "      <td>0</td>\n",
              "      <td>1</td>\n",
              "      <td>0</td>\n",
              "      <td>0</td>\n",
              "    </tr>\n",
              "    <tr>\n",
              "      <th>4</th>\n",
              "      <td>i am feeling grouchy</td>\n",
              "      <td>1</td>\n",
              "      <td>0</td>\n",
              "      <td>0</td>\n",
              "      <td>0</td>\n",
              "      <td>0</td>\n",
              "      <td>0</td>\n",
              "    </tr>\n",
              "    <tr>\n",
              "      <th>...</th>\n",
              "      <td>...</td>\n",
              "      <td>...</td>\n",
              "      <td>...</td>\n",
              "      <td>...</td>\n",
              "      <td>...</td>\n",
              "      <td>...</td>\n",
              "      <td>...</td>\n",
              "    </tr>\n",
              "    <tr>\n",
              "      <th>1995</th>\n",
              "      <td>im having ssa examination tomorrow in the morn...</td>\n",
              "      <td>0</td>\n",
              "      <td>0</td>\n",
              "      <td>0</td>\n",
              "      <td>0</td>\n",
              "      <td>1</td>\n",
              "      <td>0</td>\n",
              "    </tr>\n",
              "    <tr>\n",
              "      <th>1996</th>\n",
              "      <td>i constantly worry about their fight against n...</td>\n",
              "      <td>0</td>\n",
              "      <td>0</td>\n",
              "      <td>1</td>\n",
              "      <td>0</td>\n",
              "      <td>0</td>\n",
              "      <td>0</td>\n",
              "    </tr>\n",
              "    <tr>\n",
              "      <th>1997</th>\n",
              "      <td>i feel its important to share this info for th...</td>\n",
              "      <td>0</td>\n",
              "      <td>0</td>\n",
              "      <td>1</td>\n",
              "      <td>0</td>\n",
              "      <td>0</td>\n",
              "      <td>0</td>\n",
              "    </tr>\n",
              "    <tr>\n",
              "      <th>1998</th>\n",
              "      <td>i truly feel that if you are passionate enough...</td>\n",
              "      <td>0</td>\n",
              "      <td>0</td>\n",
              "      <td>1</td>\n",
              "      <td>0</td>\n",
              "      <td>0</td>\n",
              "      <td>0</td>\n",
              "    </tr>\n",
              "    <tr>\n",
              "      <th>1999</th>\n",
              "      <td>i feel like i just wanna buy any cute make up ...</td>\n",
              "      <td>0</td>\n",
              "      <td>0</td>\n",
              "      <td>1</td>\n",
              "      <td>0</td>\n",
              "      <td>0</td>\n",
              "      <td>0</td>\n",
              "    </tr>\n",
              "  </tbody>\n",
              "</table>\n",
              "<p>18000 rows × 7 columns</p>\n",
              "</div>"
            ],
            "text/plain": [
              "                                               sentence  ...  surprise\n",
              "0                               i didnt feel humiliated  ...         0\n",
              "1     i can go from feeling so hopeless to so damned...  ...         0\n",
              "2      im grabbing a minute to post i feel greedy wrong  ...         0\n",
              "3     i am ever feeling nostalgic about the fireplac...  ...         0\n",
              "4                                  i am feeling grouchy  ...         0\n",
              "...                                                 ...  ...       ...\n",
              "1995  im having ssa examination tomorrow in the morn...  ...         0\n",
              "1996  i constantly worry about their fight against n...  ...         0\n",
              "1997  i feel its important to share this info for th...  ...         0\n",
              "1998  i truly feel that if you are passionate enough...  ...         0\n",
              "1999  i feel like i just wanna buy any cute make up ...  ...         0\n",
              "\n",
              "[18000 rows x 7 columns]"
            ]
          },
          "metadata": {},
          "execution_count": 6
        }
      ]
    },
    {
      "cell_type": "code",
      "metadata": {
        "id": "PHABUbGEEeea"
      },
      "source": [
        "the_sentence = df_baru['sentence'].values\n",
        "label = df_baru[['anger',\t'fear',\t'joy',\t'love',\t'sadness',\t'surprise']].values"
      ],
      "execution_count": 7,
      "outputs": []
    },
    {
      "cell_type": "code",
      "metadata": {
        "id": "iTVNyErYW7uU"
      },
      "source": [
        "sentence_latih, sentence_test, label_latih, label_test = train_test_split(the_sentence, label, test_size = 0.2, random_state = 42)"
      ],
      "execution_count": 8,
      "outputs": []
    },
    {
      "cell_type": "code",
      "metadata": {
        "id": "YWpK6WzxFm3E"
      },
      "source": [
        "token = Tokenizer(num_words = 5000, oov_token = 'ntah')\n",
        "token.fit_on_texts(sentence_latih)\n",
        "token.fit_on_texts(sentence_test)\n",
        "\n",
        "sekuens_latih = token.texts_to_sequences(sentence_latih)\n",
        "sekuens_test = token.texts_to_sequences(sentence_test)\n",
        "\n",
        "padded_latih = pad_sequences(sekuens_latih)\n",
        "padded_test = pad_sequences(sekuens_test)"
      ],
      "execution_count": 9,
      "outputs": []
    },
    {
      "cell_type": "code",
      "metadata": {
        "id": "lUgfIEqDG9SJ"
      },
      "source": [
        "model = tf.keras.Sequential([\n",
        "  tf.keras.layers.Embedding(input_dim = 5000, output_dim = 100),\n",
        "  tf.keras.layers.LSTM(64),\n",
        "  tf.keras.layers.Dense(128, activation='relu'),\n",
        "  tf.keras.layers.Dropout(0.1),\n",
        "  tf.keras.layers.Dense(64, activation='relu'),\n",
        "  tf.keras.layers.Dropout(0.2),\n",
        "  tf.keras.layers.Dense(32, activation='relu'),\n",
        "  tf.keras.layers.Dropout(0.3),\n",
        "  tf.keras.layers.Dense(7, activation='relu'),\n",
        "  tf.keras.layers.Dropout(0.4),\n",
        "  tf.keras.layers.Dense(6, activation='softmax')\n",
        "])\n",
        "\n",
        "model.compile(loss='categorical_crossentropy', optimizer='adam', metrics=['accuracy'])"
      ],
      "execution_count": 10,
      "outputs": []
    },
    {
      "cell_type": "code",
      "metadata": {
        "id": "A1t_F7aTJOrg"
      },
      "source": [
        "class myCallback(tf.keras.callbacks.Callback):\n",
        "  def on_epoch_end(self, epoch, logs={}):\n",
        "    if(logs.get('accuracy')>0.9):\n",
        "      print(\"\\nAkurasi telah mencapai >90%!\")\n",
        "      self.model.stop_training = True\n",
        "callbacks = myCallback()"
      ],
      "execution_count": 11,
      "outputs": []
    },
    {
      "cell_type": "code",
      "metadata": {
        "colab": {
          "base_uri": "https://localhost:8080/"
        },
        "id": "CEINJ9n-J4FQ",
        "outputId": "dbad5a10-584c-4c80-fe3f-f81616fa0ead"
      },
      "source": [
        "history = model.fit(padded_latih, label_latih, epochs=100, validation_data=(padded_test, label_test), callbacks=[callbacks])"
      ],
      "execution_count": 12,
      "outputs": [
        {
          "output_type": "stream",
          "name": "stdout",
          "text": [
            "Epoch 1/100\n",
            "450/450 [==============================] - 28s 57ms/step - loss: 1.6007 - accuracy: 0.3422 - val_loss: 1.3114 - val_accuracy: 0.4650\n",
            "Epoch 2/100\n",
            "450/450 [==============================] - 24s 54ms/step - loss: 1.1322 - accuracy: 0.5754 - val_loss: 0.7312 - val_accuracy: 0.7647\n",
            "Epoch 3/100\n",
            "450/450 [==============================] - 23s 52ms/step - loss: 0.7645 - accuracy: 0.6905 - val_loss: 0.5428 - val_accuracy: 0.8108\n",
            "Epoch 4/100\n",
            "450/450 [==============================] - 24s 53ms/step - loss: 0.6329 - accuracy: 0.7341 - val_loss: 0.4972 - val_accuracy: 0.8222\n",
            "Epoch 5/100\n",
            "450/450 [==============================] - 23s 51ms/step - loss: 0.5890 - accuracy: 0.7547 - val_loss: 0.5775 - val_accuracy: 0.8289\n",
            "Epoch 6/100\n",
            "450/450 [==============================] - 23s 50ms/step - loss: 0.5441 - accuracy: 0.7690 - val_loss: 0.5075 - val_accuracy: 0.8375\n",
            "Epoch 7/100\n",
            "450/450 [==============================] - 23s 51ms/step - loss: 0.4908 - accuracy: 0.7842 - val_loss: 0.4587 - val_accuracy: 0.8736\n",
            "Epoch 8/100\n",
            "450/450 [==============================] - 23s 51ms/step - loss: 0.4606 - accuracy: 0.7978 - val_loss: 0.7234 - val_accuracy: 0.8653\n",
            "Epoch 9/100\n",
            "450/450 [==============================] - 25s 55ms/step - loss: 0.4443 - accuracy: 0.8025 - val_loss: 0.4625 - val_accuracy: 0.8308\n",
            "Epoch 10/100\n",
            "450/450 [==============================] - 24s 53ms/step - loss: 0.4824 - accuracy: 0.7981 - val_loss: 0.5562 - val_accuracy: 0.8783\n",
            "Epoch 11/100\n",
            "450/450 [==============================] - 25s 55ms/step - loss: 0.4136 - accuracy: 0.8191 - val_loss: 0.8100 - val_accuracy: 0.8800\n",
            "Epoch 12/100\n",
            "450/450 [==============================] - 23s 52ms/step - loss: 0.3810 - accuracy: 0.8388 - val_loss: 0.8597 - val_accuracy: 0.8881\n",
            "Epoch 13/100\n",
            "450/450 [==============================] - 24s 53ms/step - loss: 0.3746 - accuracy: 0.8395 - val_loss: 1.0194 - val_accuracy: 0.8542\n",
            "Epoch 14/100\n",
            "450/450 [==============================] - 24s 53ms/step - loss: 0.4474 - accuracy: 0.8290 - val_loss: 0.5603 - val_accuracy: 0.8792\n",
            "Epoch 15/100\n",
            "450/450 [==============================] - 24s 53ms/step - loss: 0.3716 - accuracy: 0.8468 - val_loss: 0.5653 - val_accuracy: 0.8869\n",
            "Epoch 16/100\n",
            "450/450 [==============================] - 24s 54ms/step - loss: 0.3573 - accuracy: 0.8528 - val_loss: 0.9177 - val_accuracy: 0.9053\n",
            "Epoch 17/100\n",
            "450/450 [==============================] - 24s 53ms/step - loss: 0.3431 - accuracy: 0.8656 - val_loss: 1.0677 - val_accuracy: 0.9103\n",
            "Epoch 18/100\n",
            "450/450 [==============================] - 24s 53ms/step - loss: 0.3347 - accuracy: 0.8678 - val_loss: 1.4839 - val_accuracy: 0.9103\n",
            "Epoch 19/100\n",
            "450/450 [==============================] - 24s 54ms/step - loss: 0.3318 - accuracy: 0.8736 - val_loss: 1.5951 - val_accuracy: 0.9086\n",
            "Epoch 20/100\n",
            "450/450 [==============================] - 24s 53ms/step - loss: 0.3243 - accuracy: 0.8796 - val_loss: 1.4898 - val_accuracy: 0.9092\n",
            "Epoch 21/100\n",
            "450/450 [==============================] - 24s 53ms/step - loss: 0.3310 - accuracy: 0.8733 - val_loss: 1.4462 - val_accuracy: 0.9042\n",
            "Epoch 22/100\n",
            "450/450 [==============================] - 24s 54ms/step - loss: 0.3095 - accuracy: 0.8816 - val_loss: 3.8741 - val_accuracy: 0.9094\n",
            "Epoch 23/100\n",
            "450/450 [==============================] - 24s 54ms/step - loss: 0.3747 - accuracy: 0.8663 - val_loss: 0.7746 - val_accuracy: 0.8747\n",
            "Epoch 24/100\n",
            "450/450 [==============================] - 24s 54ms/step - loss: 0.3393 - accuracy: 0.8663 - val_loss: 0.9699 - val_accuracy: 0.9058\n",
            "Epoch 25/100\n",
            "450/450 [==============================] - 24s 53ms/step - loss: 0.3047 - accuracy: 0.8753 - val_loss: 1.6820 - val_accuracy: 0.9064\n",
            "Epoch 26/100\n",
            "450/450 [==============================] - 24s 54ms/step - loss: 0.3549 - accuracy: 0.8803 - val_loss: 1.0518 - val_accuracy: 0.9094\n",
            "Epoch 27/100\n",
            "450/450 [==============================] - 24s 53ms/step - loss: 0.3239 - accuracy: 0.8775 - val_loss: 0.7685 - val_accuracy: 0.8947\n",
            "Epoch 28/100\n",
            "450/450 [==============================] - 24s 54ms/step - loss: 0.3054 - accuracy: 0.8795 - val_loss: 0.7699 - val_accuracy: 0.8856\n",
            "Epoch 29/100\n",
            "450/450 [==============================] - 24s 53ms/step - loss: 0.3026 - accuracy: 0.8755 - val_loss: 1.0858 - val_accuracy: 0.9125\n",
            "Epoch 30/100\n",
            "450/450 [==============================] - 24s 54ms/step - loss: 0.3007 - accuracy: 0.8844 - val_loss: 1.2508 - val_accuracy: 0.9092\n",
            "Epoch 31/100\n",
            "450/450 [==============================] - 24s 53ms/step - loss: 0.2785 - accuracy: 0.8856 - val_loss: 1.4757 - val_accuracy: 0.9128\n",
            "Epoch 32/100\n",
            "450/450 [==============================] - 24s 54ms/step - loss: 0.2746 - accuracy: 0.8877 - val_loss: 1.5270 - val_accuracy: 0.8961\n",
            "Epoch 33/100\n",
            "450/450 [==============================] - 24s 53ms/step - loss: 0.2762 - accuracy: 0.8932 - val_loss: 1.7161 - val_accuracy: 0.9103\n",
            "Epoch 34/100\n",
            "450/450 [==============================] - 24s 53ms/step - loss: 0.3154 - accuracy: 0.8841 - val_loss: 1.7028 - val_accuracy: 0.9133\n",
            "Epoch 35/100\n",
            "450/450 [==============================] - 25s 55ms/step - loss: 0.3180 - accuracy: 0.8901 - val_loss: 1.3643 - val_accuracy: 0.9092\n",
            "Epoch 36/100\n",
            "450/450 [==============================] - 24s 53ms/step - loss: 0.2737 - accuracy: 0.8935 - val_loss: 2.2321 - val_accuracy: 0.9100\n",
            "Epoch 37/100\n",
            "450/450 [==============================] - 24s 54ms/step - loss: 0.2763 - accuracy: 0.8922 - val_loss: 2.8659 - val_accuracy: 0.9108\n",
            "Epoch 38/100\n",
            "450/450 [==============================] - 24s 54ms/step - loss: 0.2724 - accuracy: 0.8926 - val_loss: 3.4616 - val_accuracy: 0.9119\n",
            "Epoch 39/100\n",
            "450/450 [==============================] - 24s 53ms/step - loss: 0.2598 - accuracy: 0.9017 - val_loss: 3.8409 - val_accuracy: 0.9092\n",
            "\n",
            "Akurasi telah mencapai >90%!\n"
          ]
        }
      ]
    },
    {
      "cell_type": "code",
      "metadata": {
        "id": "-nkr0UL5OO6s",
        "colab": {
          "base_uri": "https://localhost:8080/",
          "height": 301
        },
        "outputId": "634e06c0-604c-433f-e99d-b989bbb48f55"
      },
      "source": [
        "plt.plot(history.history['loss'])\n",
        "plt.plot(history.history['val_loss'])\n",
        "plt.title('Model loss')\n",
        "plt.ylabel('Loss')\n",
        "plt.xlabel('Epoch')\n",
        "plt.legend(['Train','Test'], loc='upper right')\n",
        "plt.show()"
      ],
      "execution_count": 13,
      "outputs": [
        {
          "output_type": "display_data",
          "data": {
            "image/png": "[encoded data removed]",
            "text/plain": [
              "<Figure size 432x288 with 1 Axes>"
            ]
          },
          "metadata": {}
        }
      ]
    },
    {
      "cell_type": "code",
      "metadata": {
        "id": "d-NKCawsOQuY",
        "colab": {
          "base_uri": "https://localhost:8080/",
          "height": 301
        },
        "outputId": "33ef0bea-e243-4f63-d18a-d4df2c115871"
      },
      "source": [
        "plt.plot(history.history['accuracy'])\n",
        "plt.plot(history.history['val_accuracy'])\n",
        "plt.title('Model accuracy')\n",
        "plt.ylabel('accuracy')\n",
        "plt.xlabel('Epoch')\n",
        "plt.legend(['Train','Test'], loc='lower right')\n",
        "plt.show()"
      ],
      "execution_count": 14,
      "outputs": [
        {
          "output_type": "display_data",
          "data": {
            "image/png": "[encoded data removed]",
            "text/plain": [
              "<Figure size 432x288 with 1 Axes>"
            ]
          },
          "metadata": {}
        }
      ]
    }
  ]
}