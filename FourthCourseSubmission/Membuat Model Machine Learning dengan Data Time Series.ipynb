{
  "nbformat": 4,
  "nbformat_minor": 0,
  "metadata": {
    "colab": {
      "name": "Time Series Submission.ipynb",
      "provenance": []
    },
    "kernelspec": {
      "name": "python3",
      "display_name": "Python 3"
    },
    "language_info": {
      "name": "python"
    }
  },
  "cells": [
    {
      "cell_type": "markdown",
      "metadata": {
        "id": "gukb4L5ttIaw"
      },
      "source": [
        "Nama: Abraham Naiborhu\n",
        "\n",
        "Email: abraham.naiborhu@student.president.ac.id"
      ]
    },
    {
      "cell_type": "markdown",
      "metadata": {
        "id": "p5dBW4m0D768"
      },
      "source": [
        "Installing dependency and Importing Library "
      ]
    },
    {
      "cell_type": "code",
      "metadata": {
        "colab": {
          "base_uri": "https://localhost:8080/"
        },
        "id": "k7PIoe9mD0Nm",
        "outputId": "917e5fb2-c372-4774-d8f4-9a98eabfda6f"
      },
      "source": [
        "#Buat Dataset\n",
        "!pip install opendatasets \n",
        "import opendatasets as od\n",
        "\n",
        "#Visualisasi data\n",
        "import pandas as pd\n",
        "import numpy as np\n",
        "import matplotlib.pyplot as plt\n",
        "\n",
        "#Preprocessing data\n",
        "from tensorflow.keras.preprocessing.sequence import pad_sequences\n",
        "from keras.layers import Dense, LSTM\n",
        "\n",
        "#Kita Train lah modelnya\n",
        "import tensorflow as tf\n",
        "from keras.callbacks import Callback\n"
      ],
      "execution_count": 1,
      "outputs": [
        {
          "output_type": "stream",
          "name": "stdout",
          "text": [
            "Requirement already satisfied: opendatasets in /usr/local/lib/python3.7/dist-packages (0.1.20)\n",
            "Requirement already satisfied: click in /usr/local/lib/python3.7/dist-packages (from opendatasets) (7.1.2)\n",
            "Requirement already satisfied: tqdm in /usr/local/lib/python3.7/dist-packages (from opendatasets) (4.62.3)\n",
            "Requirement already satisfied: kaggle in /usr/local/lib/python3.7/dist-packages (from opendatasets) (1.5.12)\n",
            "Requirement already satisfied: urllib3 in /usr/local/lib/python3.7/dist-packages (from kaggle->opendatasets) (1.24.3)\n",
            "Requirement already satisfied: certifi in /usr/local/lib/python3.7/dist-packages (from kaggle->opendatasets) (2021.5.30)\n",
            "Requirement already satisfied: python-dateutil in /usr/local/lib/python3.7/dist-packages (from kaggle->opendatasets) (2.8.2)\n",
            "Requirement already satisfied: python-slugify in /usr/local/lib/python3.7/dist-packages (from kaggle->opendatasets) (5.0.2)\n",
            "Requirement already satisfied: requests in /usr/local/lib/python3.7/dist-packages (from kaggle->opendatasets) (2.23.0)\n",
            "Requirement already satisfied: six>=1.10 in /usr/local/lib/python3.7/dist-packages (from kaggle->opendatasets) (1.15.0)\n",
            "Requirement already satisfied: text-unidecode>=1.3 in /usr/local/lib/python3.7/dist-packages (from python-slugify->kaggle->opendatasets) (1.3)\n",
            "Requirement already satisfied: chardet<4,>=3.0.2 in /usr/local/lib/python3.7/dist-packages (from requests->kaggle->opendatasets) (3.0.4)\n",
            "Requirement already satisfied: idna<3,>=2.5 in /usr/local/lib/python3.7/dist-packages (from requests->kaggle->opendatasets) (2.10)\n"
          ]
        }
      ]
    },
    {
      "cell_type": "code",
      "metadata": {
        "colab": {
          "base_uri": "https://localhost:8080/"
        },
        "id": "u-0LzGROE6zz",
        "outputId": "531c67b1-96f3-4ced-ecf0-14bdfe859cd4"
      },
      "source": [
        "od.download('https://www.kaggle.com/ashfakyeafi/pbd-load-history')"
      ],
      "execution_count": 2,
      "outputs": [
        {
          "output_type": "stream",
          "name": "stdout",
          "text": [
            "Skipping, found downloaded files in \"./pbd-load-history\" (use force=True to force download)\n"
          ]
        }
      ]
    },
    {
      "cell_type": "code",
      "metadata": {
        "colab": {
          "base_uri": "https://localhost:8080/"
        },
        "id": "1_B-UTkYFQ3g",
        "outputId": "8cdd8562-b6e8-4457-e6d5-c240ebf67dc2"
      },
      "source": [
        "df = pd.read_csv('/content/pbd-load-history/PDB_Load_History.csv')\n",
        "print(df)\n",
        "print(df.isnull().sum())\n",
        "print(\"\\n\")\n",
        "print(df.info())"
      ],
      "execution_count": 3,
      "outputs": [
        {
          "output_type": "stream",
          "name": "stdout",
          "text": [
            "              date  year  month  day  weekday  hour   demand  temperature\n",
            "0         3/1/2003  2003      3    1        7     1  12863.0           29\n",
            "1         3/1/2003  2003      3    1        7     2  12389.0           28\n",
            "2         3/1/2003  2003      3    1        7     3  12155.0           29\n",
            "3         3/1/2003  2003      3    1        7     4  12072.0           27\n",
            "4         3/1/2003  2003      3    1        7     5  12160.0           29\n",
            "...            ...   ...    ...  ...      ...   ...      ...          ...\n",
            "103771  12/31/2014  2014     12   31        4    20  16955.0           22\n",
            "103772  12/31/2014  2014     12   31        4    21  16243.0           21\n",
            "103773  12/31/2014  2014     12   31        4    22  15525.0           21\n",
            "103774  12/31/2014  2014     12   31        4    23  14759.0           18\n",
            "103775  12/31/2014  2014     12   31        4    24  14071.0           19\n",
            "\n",
            "[103776 rows x 8 columns]\n",
            "date           0\n",
            "year           0\n",
            "month          0\n",
            "day            0\n",
            "weekday        0\n",
            "hour           0\n",
            "demand         0\n",
            "temperature    0\n",
            "dtype: int64\n",
            "\n",
            "\n",
            "<class 'pandas.core.frame.DataFrame'>\n",
            "RangeIndex: 103776 entries, 0 to 103775\n",
            "Data columns (total 8 columns):\n",
            " #   Column       Non-Null Count   Dtype  \n",
            "---  ------       --------------   -----  \n",
            " 0   date         103776 non-null  object \n",
            " 1   year         103776 non-null  int64  \n",
            " 2   month        103776 non-null  int64  \n",
            " 3   day          103776 non-null  int64  \n",
            " 4   weekday      103776 non-null  int64  \n",
            " 5   hour         103776 non-null  int64  \n",
            " 6   demand       103776 non-null  float64\n",
            " 7   temperature  103776 non-null  int64  \n",
            "dtypes: float64(1), int64(6), object(1)\n",
            "memory usage: 6.3+ MB\n",
            "None\n"
          ]
        }
      ]
    },
    {
      "cell_type": "code",
      "metadata": {
        "colab": {
          "base_uri": "https://localhost:8080/",
          "height": 445
        },
        "id": "scJ6giK1hGpF",
        "outputId": "5d9418e2-145b-4549-ab49-b2cd850621dd"
      },
      "source": [
        "a = []\n",
        "for i in df.date.unique():\n",
        "  a.append(df[df.date==i].mean())\n",
        "df_new = pd.DataFrame(a)\n",
        "df_new['date'] = df.date.unique()\n",
        "df_new.set_index('date')"
      ],
      "execution_count": 4,
      "outputs": [
        {
          "output_type": "execute_result",
          "data": {
            "text/html": [
              "<div>\n",
              "<style scoped>\n",
              "    .dataframe tbody tr th:only-of-type {\n",
              "        vertical-align: middle;\n",
              "    }\n",
              "\n",
              "    .dataframe tbody tr th {\n",
              "        vertical-align: top;\n",
              "    }\n",
              "\n",
              "    .dataframe thead th {\n",
              "        text-align: right;\n",
              "    }\n",
              "</style>\n",
              "<table border=\"1\" class=\"dataframe\">\n",
              "  <thead>\n",
              "    <tr style=\"text-align: right;\">\n",
              "      <th></th>\n",
              "      <th>year</th>\n",
              "      <th>month</th>\n",
              "      <th>day</th>\n",
              "      <th>weekday</th>\n",
              "      <th>hour</th>\n",
              "      <th>demand</th>\n",
              "      <th>temperature</th>\n",
              "    </tr>\n",
              "    <tr>\n",
              "      <th>date</th>\n",
              "      <th></th>\n",
              "      <th></th>\n",
              "      <th></th>\n",
              "      <th></th>\n",
              "      <th></th>\n",
              "      <th></th>\n",
              "      <th></th>\n",
              "    </tr>\n",
              "  </thead>\n",
              "  <tbody>\n",
              "    <tr>\n",
              "      <th>3/1/2003</th>\n",
              "      <td>2003.0</td>\n",
              "      <td>3.0</td>\n",
              "      <td>1.0</td>\n",
              "      <td>7.0</td>\n",
              "      <td>12.5</td>\n",
              "      <td>14216.875000</td>\n",
              "      <td>32.083333</td>\n",
              "    </tr>\n",
              "    <tr>\n",
              "      <th>3/2/2003</th>\n",
              "      <td>2003.0</td>\n",
              "      <td>3.0</td>\n",
              "      <td>2.0</td>\n",
              "      <td>1.0</td>\n",
              "      <td>12.5</td>\n",
              "      <td>13851.625000</td>\n",
              "      <td>34.458333</td>\n",
              "    </tr>\n",
              "    <tr>\n",
              "      <th>3/3/2003</th>\n",
              "      <td>2003.0</td>\n",
              "      <td>3.0</td>\n",
              "      <td>3.0</td>\n",
              "      <td>2.0</td>\n",
              "      <td>12.5</td>\n",
              "      <td>16348.875000</td>\n",
              "      <td>14.958333</td>\n",
              "    </tr>\n",
              "    <tr>\n",
              "      <th>3/4/2003</th>\n",
              "      <td>2003.0</td>\n",
              "      <td>3.0</td>\n",
              "      <td>4.0</td>\n",
              "      <td>3.0</td>\n",
              "      <td>12.5</td>\n",
              "      <td>16575.500000</td>\n",
              "      <td>18.791667</td>\n",
              "    </tr>\n",
              "    <tr>\n",
              "      <th>3/5/2003</th>\n",
              "      <td>2003.0</td>\n",
              "      <td>3.0</td>\n",
              "      <td>5.0</td>\n",
              "      <td>4.0</td>\n",
              "      <td>12.5</td>\n",
              "      <td>15391.875000</td>\n",
              "      <td>36.458333</td>\n",
              "    </tr>\n",
              "    <tr>\n",
              "      <th>...</th>\n",
              "      <td>...</td>\n",
              "      <td>...</td>\n",
              "      <td>...</td>\n",
              "      <td>...</td>\n",
              "      <td>...</td>\n",
              "      <td>...</td>\n",
              "      <td>...</td>\n",
              "    </tr>\n",
              "    <tr>\n",
              "      <th>12/27/2014</th>\n",
              "      <td>2014.0</td>\n",
              "      <td>12.0</td>\n",
              "      <td>27.0</td>\n",
              "      <td>7.0</td>\n",
              "      <td>12.5</td>\n",
              "      <td>12843.750000</td>\n",
              "      <td>40.416667</td>\n",
              "    </tr>\n",
              "    <tr>\n",
              "      <th>12/28/2014</th>\n",
              "      <td>2014.0</td>\n",
              "      <td>12.0</td>\n",
              "      <td>28.0</td>\n",
              "      <td>1.0</td>\n",
              "      <td>12.5</td>\n",
              "      <td>12779.208333</td>\n",
              "      <td>44.041667</td>\n",
              "    </tr>\n",
              "    <tr>\n",
              "      <th>12/29/2014</th>\n",
              "      <td>2014.0</td>\n",
              "      <td>12.0</td>\n",
              "      <td>29.0</td>\n",
              "      <td>2.0</td>\n",
              "      <td>12.5</td>\n",
              "      <td>14332.291667</td>\n",
              "      <td>34.125000</td>\n",
              "    </tr>\n",
              "    <tr>\n",
              "      <th>12/30/2014</th>\n",
              "      <td>2014.0</td>\n",
              "      <td>12.0</td>\n",
              "      <td>30.0</td>\n",
              "      <td>3.0</td>\n",
              "      <td>12.5</td>\n",
              "      <td>15276.041667</td>\n",
              "      <td>23.500000</td>\n",
              "    </tr>\n",
              "    <tr>\n",
              "      <th>12/31/2014</th>\n",
              "      <td>2014.0</td>\n",
              "      <td>12.0</td>\n",
              "      <td>31.0</td>\n",
              "      <td>4.0</td>\n",
              "      <td>12.5</td>\n",
              "      <td>15352.125000</td>\n",
              "      <td>21.291667</td>\n",
              "    </tr>\n",
              "  </tbody>\n",
              "</table>\n",
              "<p>4324 rows × 7 columns</p>\n",
              "</div>"
            ],
            "text/plain": [
              "              year  month   day  weekday  hour        demand  temperature\n",
              "date                                                                     \n",
              "3/1/2003    2003.0    3.0   1.0      7.0  12.5  14216.875000    32.083333\n",
              "3/2/2003    2003.0    3.0   2.0      1.0  12.5  13851.625000    34.458333\n",
              "3/3/2003    2003.0    3.0   3.0      2.0  12.5  16348.875000    14.958333\n",
              "3/4/2003    2003.0    3.0   4.0      3.0  12.5  16575.500000    18.791667\n",
              "3/5/2003    2003.0    3.0   5.0      4.0  12.5  15391.875000    36.458333\n",
              "...            ...    ...   ...      ...   ...           ...          ...\n",
              "12/27/2014  2014.0   12.0  27.0      7.0  12.5  12843.750000    40.416667\n",
              "12/28/2014  2014.0   12.0  28.0      1.0  12.5  12779.208333    44.041667\n",
              "12/29/2014  2014.0   12.0  29.0      2.0  12.5  14332.291667    34.125000\n",
              "12/30/2014  2014.0   12.0  30.0      3.0  12.5  15276.041667    23.500000\n",
              "12/31/2014  2014.0   12.0  31.0      4.0  12.5  15352.125000    21.291667\n",
              "\n",
              "[4324 rows x 7 columns]"
            ]
          },
          "metadata": {},
          "execution_count": 4
        }
      ]
    },
    {
      "cell_type": "code",
      "metadata": {
        "id": "SNfB-JjUFUJB",
        "colab": {
          "base_uri": "https://localhost:8080/",
          "height": 306
        },
        "outputId": "1e9355e3-618e-4de3-e0a6-d92ec9fec9b8"
      },
      "source": [
        "dates = df_new['date'].values\n",
        "temp = df_new['temperature'].values\n",
        "\n",
        "plt.figure(figsize=(15,5))\n",
        "plt.plot(dates,temp)\n",
        "plt.title('Temperature Average', fontsize = 20)"
      ],
      "execution_count": 5,
      "outputs": [
        {
          "output_type": "execute_result",
          "data": {
            "text/plain": [
              "Text(0.5, 1.0, 'Temperature Average')"
            ]
          },
          "metadata": {},
          "execution_count": 5
        },
        {
          "output_type": "display_data",
          "data": {
            "image/png": "[encoded data removed]",
            "text/plain": [
              "<Figure size 1080x360 with 1 Axes>"
            ]
          },
          "metadata": {
            "needs_background": "light"
          }
        }
      ]
    },
    {
      "cell_type": "code",
      "metadata": {
        "id": "bnH6c3D6doKU"
      },
      "source": [
        "def windowed_dataset(series, window_size, batch_size, shuffle_buffer):\n",
        "    series = tf.expand_dims(series, axis=-1)\n",
        "    ds = tf.data.Dataset.from_tensor_slices(series)\n",
        "    ds = ds.window(window_size + 1, shift=1, drop_remainder=True)\n",
        "    ds = ds.flat_map(lambda w: w.batch(window_size + 1))\n",
        "    ds = ds.shuffle(shuffle_buffer)\n",
        "    ds = ds.map(lambda w: (w[:-1], w[-1:]))\n",
        "    return ds.batch(batch_size).prefetch(1)"
      ],
      "execution_count": 6,
      "outputs": []
    },
    {
      "cell_type": "code",
      "metadata": {
        "id": "LIQPseDYeWst",
        "colab": {
          "base_uri": "https://localhost:8080/"
        },
        "outputId": "9b5d5f6c-38d7-4c57-f80c-63fd11601416"
      },
      "source": [
        "minMae = str((df_new['temperature'].max() - df_new['temperature'].min())*10/100)\n",
        "print(\"Sesuai kriteria, MAE harus < 10%\" + \"\\n\")\n",
        "print(\"Olehsebab itu, harus dibawah \"+ minMae)"
      ],
      "execution_count": 7,
      "outputs": [
        {
          "output_type": "stream",
          "name": "stdout",
          "text": [
            "Sesuai kriteria, MAE harus < 10%\n",
            "\n",
            "Olehsebab itu, harus dibawah 8.841666666666667\n"
          ]
        }
      ]
    },
    {
      "cell_type": "code",
      "metadata": {
        "id": "P7it1fEjMIrt",
        "colab": {
          "base_uri": "https://localhost:8080/"
        },
        "outputId": "a96d77cb-4601-4800-e0f1-cc869422da05"
      },
      "source": [
        "train_size = int(len(df_new['temperature'])*0.8)\n",
        "df_temperature = df_new['temperature']\n",
        "train_value = df_temperature[0:train_size]\n",
        "test_value = df_temperature[train_size:]\n",
        "\n",
        "print(len(df_new['temperature']))\n",
        "print(train_size)\n",
        "print(len(train_value))\n",
        "print(len(test_value))\n",
        "print(train_size/(len(df_new['temperature']))*100)\n",
        "print(train_value.shape, test_value.shape)\n",
        "print('\\n')\n",
        "print(train_value)\n",
        "print('\\n')\n",
        "print(test_value)"
      ],
      "execution_count": 8,
      "outputs": [
        {
          "output_type": "stream",
          "name": "stdout",
          "text": [
            "4324\n",
            "3459\n",
            "3459\n",
            "865\n",
            "79.99537465309898\n",
            "(3459,) (865,)\n",
            "\n",
            "\n",
            "0       32.083333\n",
            "1       34.458333\n",
            "2       14.958333\n",
            "3       18.791667\n",
            "4       36.458333\n",
            "          ...    \n",
            "3454    73.333333\n",
            "3455    72.583333\n",
            "3456    73.083333\n",
            "3457    74.208333\n",
            "3458    68.500000\n",
            "Name: temperature, Length: 3459, dtype: float64\n",
            "\n",
            "\n",
            "3459    66.083333\n",
            "3460    67.833333\n",
            "3461    71.416667\n",
            "3462    70.208333\n",
            "3463    73.375000\n",
            "          ...    \n",
            "4319    40.416667\n",
            "4320    44.041667\n",
            "4321    34.125000\n",
            "4322    23.500000\n",
            "4323    21.291667\n",
            "Name: temperature, Length: 865, dtype: float64\n"
          ]
        }
      ]
    },
    {
      "cell_type": "code",
      "metadata": {
        "colab": {
          "base_uri": "https://localhost:8080/"
        },
        "id": "GAWLl0pag4Ol",
        "outputId": "77dbab4c-81eb-4812-f987-bbfc636edc48"
      },
      "source": [
        "train_set = windowed_dataset(train_value, window_size=60, batch_size=100, shuffle_buffer=1000)\n",
        "validation_set = windowed_dataset(test_value, window_size=60, batch_size=100, shuffle_buffer=1000)\n",
        "model = tf.keras.models.Sequential([\n",
        "  tf.keras.layers.LSTM(60, return_sequences=True),\n",
        "  tf.keras.layers.LSTM(60),\n",
        "  tf.keras.layers.Dense(30, activation=\"relu\"),\n",
        "  tf.keras.layers.Dense(10, activation=\"relu\"),\n",
        "  tf.keras.layers.Dense(1),\n",
        "])\n",
        "\n",
        "optimizer = tf.keras.optimizers.SGD(lr=1.0000e-04, momentum=0.9)\n",
        "model.compile(optimizer = optimizer, metrics=['mae'], loss= tf.keras.losses.Huber())\n",
        "\n",
        "class myCallback(tf.keras.callbacks.Callback):\n",
        "  def on_epoch_end(self, epoch, logs={}):\n",
        "    if(logs.get('mae') < 8.841666666666667 and logs.get('val_mae') < 8.841666666666667):\n",
        "      print(\"\\nMAE dan Val_MAE sudah dibawah 10%\")\n",
        "      self.model.stop_training = True\n",
        "callbacks = myCallback()\n",
        "\n",
        "history = model.fit(train_set,\n",
        "              validation_data= validation_set,\n",
        "              callbacks=[callbacks],\n",
        "              epochs=100)"
      ],
      "execution_count": 9,
      "outputs": [
        {
          "output_type": "stream",
          "name": "stderr",
          "text": [
            "/usr/local/lib/python3.7/dist-packages/keras/optimizer_v2/optimizer_v2.py:356: UserWarning: The `lr` argument is deprecated, use `learning_rate` instead.\n",
            "  \"The `lr` argument is deprecated, use `learning_rate` instead.\")\n"
          ]
        },
        {
          "output_type": "stream",
          "name": "stdout",
          "text": [
            "Epoch 1/100\n",
            "34/34 [==============================] - 9s 145ms/step - loss: 50.3058 - mae: 50.8057 - val_loss: 47.7816 - val_mae: 48.2816\n",
            "Epoch 2/100\n",
            "34/34 [==============================] - 4s 125ms/step - loss: 49.6158 - mae: 50.1157 - val_loss: 47.1313 - val_mae: 47.6313\n",
            "Epoch 3/100\n",
            "34/34 [==============================] - 4s 120ms/step - loss: 48.9504 - mae: 49.4503 - val_loss: 46.3815 - val_mae: 46.8815\n",
            "Epoch 4/100\n",
            "34/34 [==============================] - 4s 121ms/step - loss: 48.0533 - mae: 48.5532 - val_loss: 45.2875 - val_mae: 45.7875\n",
            "Epoch 5/100\n",
            "34/34 [==============================] - 4s 122ms/step - loss: 46.6797 - mae: 47.1795 - val_loss: 43.5482 - val_mae: 44.0478\n",
            "Epoch 6/100\n",
            "34/34 [==============================] - 4s 123ms/step - loss: 44.4063 - mae: 44.9060 - val_loss: 40.5368 - val_mae: 41.0368\n",
            "Epoch 7/100\n",
            "34/34 [==============================] - 4s 123ms/step - loss: 40.1917 - mae: 40.6916 - val_loss: 34.6126 - val_mae: 35.1119\n",
            "Epoch 8/100\n",
            "34/34 [==============================] - 4s 124ms/step - loss: 31.3241 - mae: 31.8227 - val_loss: 22.3154 - val_mae: 22.8129\n",
            "Epoch 9/100\n",
            "34/34 [==============================] - 4s 125ms/step - loss: 17.9040 - mae: 18.3977 - val_loss: 14.3151 - val_mae: 14.8106\n",
            "Epoch 10/100\n",
            "34/34 [==============================] - 5s 128ms/step - loss: 13.9848 - mae: 14.4776 - val_loss: 13.5358 - val_mae: 14.0280\n",
            "Epoch 11/100\n",
            "34/34 [==============================] - 4s 126ms/step - loss: 12.8167 - mae: 13.3104 - val_loss: 11.3366 - val_mae: 11.8291\n",
            "Epoch 12/100\n",
            "34/34 [==============================] - 4s 122ms/step - loss: 8.8382 - mae: 9.3267 - val_loss: 7.3711 - val_mae: 7.8570\n",
            "Epoch 13/100\n",
            "34/34 [==============================] - 4s 125ms/step - loss: 6.3208 - mae: 6.8035 - val_loss: 5.8521 - val_mae: 6.3307\n",
            "\n",
            "MAE dan Val_MAE sudah dibawah 10%\n"
          ]
        }
      ]
    },
    {
      "cell_type": "code",
      "metadata": {
        "colab": {
          "base_uri": "https://localhost:8080/",
          "height": 295
        },
        "id": "2UwsMABCkit_",
        "outputId": "e56f696c-9bf6-4b3d-a67e-7309594b0e9a"
      },
      "source": [
        "plt.plot(history.history['loss'])\n",
        "plt.plot(history.history['val_loss'])\n",
        "plt.title('Model loss')\n",
        "plt.ylabel('Loss')\n",
        "plt.xlabel('Epoch')\n",
        "plt.legend(['Train','Test'], loc='upper right')\n",
        "plt.show()"
      ],
      "execution_count": 10,
      "outputs": [
        {
          "output_type": "display_data",
          "data": {
            "image/png": "[encoded data removed]",
            "text/plain": [
              "<Figure size 432x288 with 1 Axes>"
            ]
          },
          "metadata": {
            "needs_background": "light"
          }
        }
      ]
    },
    {
      "cell_type": "code",
      "metadata": {
        "colab": {
          "base_uri": "https://localhost:8080/",
          "height": 295
        },
        "id": "FQGsAxtsk8de",
        "outputId": "045796aa-e508-42b0-df90-abe7bf4f9335"
      },
      "source": [
        "plt.plot(history.history['mae'])\n",
        "plt.plot(history.history['val_mae'])\n",
        "plt.title('Model MAE')\n",
        "plt.ylabel('MAE')\n",
        "plt.xlabel('Epoch')\n",
        "plt.legend(['Train','Test'], loc='lower right')\n",
        "plt.show()"
      ],
      "execution_count": 11,
      "outputs": [
        {
          "output_type": "display_data",
          "data": {
            "image/png": "[encoded data removed]",
            "text/plain": [
              "<Figure size 432x288 with 1 Axes>"
            ]
          },
          "metadata": {
            "needs_background": "light"
          }
        }
      ]
    },
    {
      "cell_type": "code",
      "metadata": {
        "id": "4R6Qh4JGk-7Q"
      },
      "source": [
        ""
      ],
      "execution_count": 11,
      "outputs": []
    }
  ]
}